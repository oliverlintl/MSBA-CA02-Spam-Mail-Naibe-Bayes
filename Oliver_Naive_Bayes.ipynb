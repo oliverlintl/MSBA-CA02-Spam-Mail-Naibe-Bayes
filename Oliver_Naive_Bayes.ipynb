{
 "cells": [
  {
   "cell_type": "code",
   "execution_count": 22,
   "metadata": {
    "id": "y2D_w-8kSmzq"
   },
   "outputs": [],
   "source": [
    "# Import packages\n",
    "import os   # for reading files\n",
    "import numpy as np    \n",
    "from collections import Counter\n",
    "from sklearn.naive_bayes import GaussianNB\n",
    "from sklearn.metrics import accuracy_score"
   ]
  },
  {
   "cell_type": "markdown",
   "metadata": {
    "id": "jW87Q8VGfkQy"
   },
   "source": [
    "This function builds a Dictionary of most common 3000 words from all the email content. First it adds all words and symbols in the dictionary. Then it removes all non-alpha-numeric characters and any single character alpha-numeric characters. After this is complete it shrinks the Dictionary by keeping only most common 3000 words in the dictionary. It returns the Dictionary.\n"
   ]
  },
  {
   "cell_type": "code",
   "execution_count": 23,
   "metadata": {
    "id": "e8Bduzj2eXLa"
   },
   "outputs": [],
   "source": [
    "def make_Dictionary(root_dir):\n",
    "  all_words=[]\n",
    "  emails = [os.path.join(root_dir, f) for f in os.listdir(root_dir)]\n",
    "  for mail in emails:\n",
    "    with open(mail) as m:\n",
    "      for line in m:\n",
    "        words = line.split()\n",
    "        all_words += words\n",
    "  dictionary = Counter(all_words)\n",
    "  list_to_remove = list(dictionary)\n",
    "  \n",
    "  for item in list_to_remove:\n",
    "    if item.isalpha() == False:    # .isalpha() check if all characters are letters\n",
    "      del dictionary[item]    # remove all non letter characters\n",
    "    elif len(item) == 1:\n",
    "      del dictionary[item]    # remove all 1 letter words\n",
    "  dictionary = dictionary.most_common(3000)\n",
    "  return dictionary"
   ]
  },
  {
   "cell_type": "markdown",
   "metadata": {
    "id": "Mj5-KrOdjSbg"
   },
   "source": [
    "This function extracts feature columns and populates their values (Feature Matrix of 3000 comumns and rows equal to the number of email files). The function also analyzes the File Names of each email file and decides if it's a Spame or not based on the naming convention. Based on this the function also creates the Labelled Data Column. This function is used to extract the training dataset as well as the testing dataset and returns the Feature Dataset and the Label column."
   ]
  },
  {
   "cell_type": "code",
   "execution_count": 24,
   "metadata": {
    "id": "KVGi89OmjVwF"
   },
   "outputs": [],
   "source": [
    "def extract_features(mail_dir):\n",
    "    files = [os.path.join(mail_dir, fi) for fi in os.listdir(mail_dir)]\n",
    "    features_matrix = np.zeros((len(files), 3000))\n",
    "    train_labels = np.zeros(len(files))\n",
    "    count = 1;  # ?\n",
    "    docID = 0;  # ?\n",
    "    for fil in files:\n",
    "        with open(fil) as fi:\n",
    "            for i, line in enumerate(fi):\n",
    "                if i == 2:\n",
    "                    words = line.split()\n",
    "                    for word in words:\n",
    "                        wordID = 0\n",
    "                        for i, d in enumerate(dictionary):\n",
    "                            if d[0] == word:\n",
    "                                wordID = i\n",
    "                                features_matrix[docID, wordID] = words.count(word)   # filling the matrix with the count of each word in a mail\n",
    "            train_labels[docID] = 0;  # what are ; for?\n",
    "            filepathTokens = fil.split('/')\n",
    "            lastToken = filepathTokens[len(filepathTokens) - 1]\n",
    "            if lastToken.startswith('spmsg'):\n",
    "                train_labels[docID] = 1;\n",
    "                count = count + 1\n",
    "            docID = docID + 1\n",
    "    return features_matrix, train_labels"
   ]
  },
  {
   "cell_type": "markdown",
   "metadata": {},
   "source": [
    "The section is the main Program that calls the above two functions and gets executed first. First it \"trains\" the model using model.fit function and Training Dataset. After that it scores the Test Data set by running the Trained Model with the Test Data set. At the end it prints the model performance in terms of accuracy score."
   ]
  },
  {
   "cell_type": "code",
   "execution_count": 27,
   "metadata": {},
   "outputs": [
    {
     "name": "stdout",
     "output_type": "stream",
     "text": [
      "[('order', 1414), ('address', 1299), ('report', 1217), ('mail', 1133), ('language', 1099), ('send', 1080), ('email', 1066), ('program', 1009), ('our', 991), ('list', 946)]\n",
      "reading and processing emails from TRAIN and TEST folders...\n"
     ]
    }
   ],
   "source": [
    "# set path for files\n",
    "TRAIN_DIR = './train-mails'\n",
    "TEST_DIR = './test-mails'\n",
    "\n",
    "# create dictionary\n",
    "dictionary = make_Dictionary(TRAIN_DIR)\n",
    "print(dictionary[0:10]) # check dictionary\n",
    "\n",
    "print('reading and processing emails from TRAIN and TEST folders...')\n",
    "features_matrix, labels = extract_features(TRAIN_DIR)\n",
    "test_features_matrix, test_labels = extract_features(TEST_DIR)\n",
    "\n",
    "model = GaussianNB()"
   ]
  },
  {
   "cell_type": "code",
   "execution_count": 28,
   "metadata": {},
   "outputs": [
    {
     "name": "stdout",
     "output_type": "stream",
     "text": [
      "Training Model using Gaussian Naive Bayes algorithm......\n",
      "Training completed\n",
      "testing trained model to predict Test Data labels\n",
      "Completed classification of the Test Data ... now printing Accuracy Score by comparing predicted labels with the test labels:\n",
      "1.0\n"
     ]
    }
   ],
   "source": [
    "print('Training Model using Gaussian Naive Bayes algorithm......')\n",
    "model.fit(features_matrix, labels)\n",
    "print('Training completed')\n",
    "print('testing trained model to predict Test Data labels')\n",
    "predicted_labels = model.predict(test_features_matrix)\n",
    "print('Completed classification of the Test Data ... now printing Accuracy Score by comparing predicted labels with the test labels:')\n",
    "print(accuracy_score(test_labels, predicted_labels))"
   ]
  }
 ],
 "metadata": {
  "colab": {
   "collapsed_sections": [],
   "name": "Naive_Bayes.ipynb",
   "provenance": []
  },
  "kernelspec": {
   "display_name": "Python 3 (ipykernel)",
   "language": "python",
   "name": "python3"
  },
  "language_info": {
   "codemirror_mode": {
    "name": "ipython",
    "version": 3
   },
   "file_extension": ".py",
   "mimetype": "text/x-python",
   "name": "python",
   "nbconvert_exporter": "python",
   "pygments_lexer": "ipython3",
   "version": "3.9.7"
  }
 },
 "nbformat": 4,
 "nbformat_minor": 1
}
